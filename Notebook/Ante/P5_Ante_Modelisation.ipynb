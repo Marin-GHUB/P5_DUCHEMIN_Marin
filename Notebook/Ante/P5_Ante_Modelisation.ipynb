{
 "cells": [
  {
   "cell_type": "markdown",
   "id": "d699a6e9-f847-48f3-a81e-c1b6baa985ae",
   "metadata": {},
   "source": [
    "# Imports #\n",
    "\n",
    "## Libraries ##"
   ]
  },
  {
   "cell_type": "code",
   "execution_count": 9,
   "id": "d8092b3d-1131-41cc-a7f8-719224b25de3",
   "metadata": {},
   "outputs": [],
   "source": [
    "import pandas as pd\n",
    "import numpy as np\n",
    "import matplotlib.pyplot as plt\n",
    "import seaborn as sns\n",
    "import timeit\n",
    "\n",
    "from sklearn.impute import SimpleImputer\n",
    "from sklearn.preprocessing import RobustScaler, OrdinalEncoder, OneHotEncoder\n",
    "from sklearn.compose import ColumnTransformer\n",
    "from sklearn.model_selection import train_test_split, RandomizedSearchCV\n",
    "from sklearn.pipeline import Pipeline\n",
    "from sklearn.decomposition import TruncatedSVD, PCA\n",
    "from sklearn.manifold import MDS, Isomap, TSNE\n",
    "from sklearn.cluster import KMeans, DBSCAN\n",
    "\n",
    "from yellowbrick.cluster import KElbowVisualizer, SilhouetteVisualizer"
   ]
  },
  {
   "cell_type": "markdown",
   "id": "cc5af944-9041-472c-a974-865fcf66b932",
   "metadata": {},
   "source": [
    "## Dataset ##"
   ]
  },
  {
   "cell_type": "code",
   "execution_count": 2,
   "id": "5bb4a015-8d56-4a38-8f67-315972bb0b22",
   "metadata": {},
   "outputs": [
    {
     "data": {
      "text/html": [
       "<div>\n",
       "<style scoped>\n",
       "    .dataframe tbody tr th:only-of-type {\n",
       "        vertical-align: middle;\n",
       "    }\n",
       "\n",
       "    .dataframe tbody tr th {\n",
       "        vertical-align: top;\n",
       "    }\n",
       "\n",
       "    .dataframe thead th {\n",
       "        text-align: right;\n",
       "    }\n",
       "</style>\n",
       "<table border=\"1\" class=\"dataframe\">\n",
       "  <thead>\n",
       "    <tr style=\"text-align: right;\">\n",
       "      <th></th>\n",
       "      <th>Customer ID</th>\n",
       "      <th>Customer City</th>\n",
       "      <th>Last Order Date</th>\n",
       "      <th>Total Number of Orders</th>\n",
       "      <th>Average Number of Orders per Trimester</th>\n",
       "      <th>Number of Orders Last Trimester</th>\n",
       "      <th>Average Number of Items per Order</th>\n",
       "      <th>Total Payment</th>\n",
       "      <th>Average Payment per Trimester</th>\n",
       "      <th>Payment Last Trimester</th>\n",
       "      <th>Average Payment per Order</th>\n",
       "      <th>Average Payment Installments</th>\n",
       "      <th>Number of Different Product Categories</th>\n",
       "      <th>Percentage of Orders in the Same City</th>\n",
       "      <th>Number or Reviews Given</th>\n",
       "      <th>Percentage of Reviews Given</th>\n",
       "      <th>Average Time to Review (days)</th>\n",
       "      <th>Average Score Given</th>\n",
       "    </tr>\n",
       "  </thead>\n",
       "  <tbody>\n",
       "    <tr>\n",
       "      <th>0</th>\n",
       "      <td>861eff4711a542e4b93843c6dd7febb0</td>\n",
       "      <td>franca</td>\n",
       "      <td>736465.0</td>\n",
       "      <td>1.0</td>\n",
       "      <td>0.1</td>\n",
       "      <td>0.0</td>\n",
       "      <td>1.0</td>\n",
       "      <td>146.87</td>\n",
       "      <td>14.687</td>\n",
       "      <td>0.0</td>\n",
       "      <td>146.87</td>\n",
       "      <td>2.0</td>\n",
       "      <td>1.0</td>\n",
       "      <td>NaN</td>\n",
       "      <td>1.0</td>\n",
       "      <td>1.0</td>\n",
       "      <td>9.0</td>\n",
       "      <td>4.0</td>\n",
       "    </tr>\n",
       "    <tr>\n",
       "      <th>1</th>\n",
       "      <td>290c77bc529b7ac935b93aa66c333dc3</td>\n",
       "      <td>sao bernardo do campo</td>\n",
       "      <td>736706.0</td>\n",
       "      <td>1.0</td>\n",
       "      <td>0.1</td>\n",
       "      <td>0.0</td>\n",
       "      <td>1.0</td>\n",
       "      <td>335.48</td>\n",
       "      <td>33.548</td>\n",
       "      <td>0.0</td>\n",
       "      <td>335.48</td>\n",
       "      <td>8.0</td>\n",
       "      <td>1.0</td>\n",
       "      <td>NaN</td>\n",
       "      <td>1.0</td>\n",
       "      <td>1.0</td>\n",
       "      <td>17.0</td>\n",
       "      <td>5.0</td>\n",
       "    </tr>\n",
       "    <tr>\n",
       "      <th>2</th>\n",
       "      <td>060e732b5b29e8181a18229c7b0b2b5e</td>\n",
       "      <td>sao paulo</td>\n",
       "      <td>736833.0</td>\n",
       "      <td>1.0</td>\n",
       "      <td>0.1</td>\n",
       "      <td>0.0</td>\n",
       "      <td>1.0</td>\n",
       "      <td>157.73</td>\n",
       "      <td>15.773</td>\n",
       "      <td>0.0</td>\n",
       "      <td>157.73</td>\n",
       "      <td>7.0</td>\n",
       "      <td>1.0</td>\n",
       "      <td>NaN</td>\n",
       "      <td>1.0</td>\n",
       "      <td>1.0</td>\n",
       "      <td>26.0</td>\n",
       "      <td>5.0</td>\n",
       "    </tr>\n",
       "    <tr>\n",
       "      <th>3</th>\n",
       "      <td>259dac757896d24d7702b9acbbff3f3c</td>\n",
       "      <td>mogi das cruzes</td>\n",
       "      <td>736766.0</td>\n",
       "      <td>1.0</td>\n",
       "      <td>0.1</td>\n",
       "      <td>0.0</td>\n",
       "      <td>1.0</td>\n",
       "      <td>173.30</td>\n",
       "      <td>17.330</td>\n",
       "      <td>0.0</td>\n",
       "      <td>173.30</td>\n",
       "      <td>1.0</td>\n",
       "      <td>1.0</td>\n",
       "      <td>NaN</td>\n",
       "      <td>1.0</td>\n",
       "      <td>1.0</td>\n",
       "      <td>15.0</td>\n",
       "      <td>5.0</td>\n",
       "    </tr>\n",
       "    <tr>\n",
       "      <th>4</th>\n",
       "      <td>345ecd01c38d18a9036ed96c73b8d066</td>\n",
       "      <td>campinas</td>\n",
       "      <td>736904.0</td>\n",
       "      <td>1.0</td>\n",
       "      <td>0.1</td>\n",
       "      <td>0.0</td>\n",
       "      <td>1.0</td>\n",
       "      <td>252.25</td>\n",
       "      <td>25.225</td>\n",
       "      <td>0.0</td>\n",
       "      <td>252.25</td>\n",
       "      <td>8.0</td>\n",
       "      <td>1.0</td>\n",
       "      <td>NaN</td>\n",
       "      <td>1.0</td>\n",
       "      <td>1.0</td>\n",
       "      <td>11.0</td>\n",
       "      <td>5.0</td>\n",
       "    </tr>\n",
       "    <tr>\n",
       "      <th>...</th>\n",
       "      <td>...</td>\n",
       "      <td>...</td>\n",
       "      <td>...</td>\n",
       "      <td>...</td>\n",
       "      <td>...</td>\n",
       "      <td>...</td>\n",
       "      <td>...</td>\n",
       "      <td>...</td>\n",
       "      <td>...</td>\n",
       "      <td>...</td>\n",
       "      <td>...</td>\n",
       "      <td>...</td>\n",
       "      <td>...</td>\n",
       "      <td>...</td>\n",
       "      <td>...</td>\n",
       "      <td>...</td>\n",
       "      <td>...</td>\n",
       "      <td>...</td>\n",
       "    </tr>\n",
       "    <tr>\n",
       "      <th>99436</th>\n",
       "      <td>1a29b476fee25c95fbafc67c5ac95cf8</td>\n",
       "      <td>sao paulo</td>\n",
       "      <td>736791.0</td>\n",
       "      <td>1.0</td>\n",
       "      <td>0.1</td>\n",
       "      <td>0.0</td>\n",
       "      <td>1.0</td>\n",
       "      <td>88.78</td>\n",
       "      <td>8.878</td>\n",
       "      <td>0.0</td>\n",
       "      <td>88.78</td>\n",
       "      <td>6.0</td>\n",
       "      <td>1.0</td>\n",
       "      <td>NaN</td>\n",
       "      <td>1.0</td>\n",
       "      <td>1.0</td>\n",
       "      <td>6.0</td>\n",
       "      <td>4.0</td>\n",
       "    </tr>\n",
       "    <tr>\n",
       "      <th>99437</th>\n",
       "      <td>d52a67c98be1cf6a5c84435bd38d095d</td>\n",
       "      <td>taboao da serra</td>\n",
       "      <td>736788.0</td>\n",
       "      <td>1.0</td>\n",
       "      <td>0.1</td>\n",
       "      <td>0.0</td>\n",
       "      <td>1.0</td>\n",
       "      <td>129.06</td>\n",
       "      <td>12.906</td>\n",
       "      <td>0.0</td>\n",
       "      <td>129.06</td>\n",
       "      <td>3.0</td>\n",
       "      <td>1.0</td>\n",
       "      <td>NaN</td>\n",
       "      <td>1.0</td>\n",
       "      <td>1.0</td>\n",
       "      <td>7.0</td>\n",
       "      <td>5.0</td>\n",
       "    </tr>\n",
       "    <tr>\n",
       "      <th>99438</th>\n",
       "      <td>e9f50caf99f032f0bf3c55141f019d99</td>\n",
       "      <td>fortaleza</td>\n",
       "      <td>736792.0</td>\n",
       "      <td>1.0</td>\n",
       "      <td>0.1</td>\n",
       "      <td>0.0</td>\n",
       "      <td>1.0</td>\n",
       "      <td>56.04</td>\n",
       "      <td>5.604</td>\n",
       "      <td>0.0</td>\n",
       "      <td>56.04</td>\n",
       "      <td>5.0</td>\n",
       "      <td>1.0</td>\n",
       "      <td>NaN</td>\n",
       "      <td>1.0</td>\n",
       "      <td>1.0</td>\n",
       "      <td>25.0</td>\n",
       "      <td>1.0</td>\n",
       "    </tr>\n",
       "    <tr>\n",
       "      <th>99439</th>\n",
       "      <td>73c2643a0a458b49f58cea58833b192e</td>\n",
       "      <td>canoas</td>\n",
       "      <td>736636.0</td>\n",
       "      <td>1.0</td>\n",
       "      <td>0.1</td>\n",
       "      <td>0.0</td>\n",
       "      <td>1.0</td>\n",
       "      <td>711.07</td>\n",
       "      <td>71.107</td>\n",
       "      <td>0.0</td>\n",
       "      <td>711.07</td>\n",
       "      <td>2.0</td>\n",
       "      <td>1.0</td>\n",
       "      <td>NaN</td>\n",
       "      <td>1.0</td>\n",
       "      <td>1.0</td>\n",
       "      <td>13.0</td>\n",
       "      <td>5.0</td>\n",
       "    </tr>\n",
       "    <tr>\n",
       "      <th>99440</th>\n",
       "      <td>84732c5050c01db9b23e19ba39899398</td>\n",
       "      <td>cotia</td>\n",
       "      <td>736682.0</td>\n",
       "      <td>1.0</td>\n",
       "      <td>0.1</td>\n",
       "      <td>0.0</td>\n",
       "      <td>1.0</td>\n",
       "      <td>21.77</td>\n",
       "      <td>2.177</td>\n",
       "      <td>0.0</td>\n",
       "      <td>21.77</td>\n",
       "      <td>1.0</td>\n",
       "      <td>1.0</td>\n",
       "      <td>NaN</td>\n",
       "      <td>1.0</td>\n",
       "      <td>1.0</td>\n",
       "      <td>7.0</td>\n",
       "      <td>5.0</td>\n",
       "    </tr>\n",
       "  </tbody>\n",
       "</table>\n",
       "<p>99441 rows × 18 columns</p>\n",
       "</div>"
      ],
      "text/plain": [
       "                            Customer ID          Customer City  \\\n",
       "0      861eff4711a542e4b93843c6dd7febb0                 franca   \n",
       "1      290c77bc529b7ac935b93aa66c333dc3  sao bernardo do campo   \n",
       "2      060e732b5b29e8181a18229c7b0b2b5e              sao paulo   \n",
       "3      259dac757896d24d7702b9acbbff3f3c        mogi das cruzes   \n",
       "4      345ecd01c38d18a9036ed96c73b8d066               campinas   \n",
       "...                                 ...                    ...   \n",
       "99436  1a29b476fee25c95fbafc67c5ac95cf8              sao paulo   \n",
       "99437  d52a67c98be1cf6a5c84435bd38d095d        taboao da serra   \n",
       "99438  e9f50caf99f032f0bf3c55141f019d99              fortaleza   \n",
       "99439  73c2643a0a458b49f58cea58833b192e                 canoas   \n",
       "99440  84732c5050c01db9b23e19ba39899398                  cotia   \n",
       "\n",
       "       Last Order Date  Total Number of Orders  \\\n",
       "0             736465.0                     1.0   \n",
       "1             736706.0                     1.0   \n",
       "2             736833.0                     1.0   \n",
       "3             736766.0                     1.0   \n",
       "4             736904.0                     1.0   \n",
       "...                ...                     ...   \n",
       "99436         736791.0                     1.0   \n",
       "99437         736788.0                     1.0   \n",
       "99438         736792.0                     1.0   \n",
       "99439         736636.0                     1.0   \n",
       "99440         736682.0                     1.0   \n",
       "\n",
       "       Average Number of Orders per Trimester  \\\n",
       "0                                         0.1   \n",
       "1                                         0.1   \n",
       "2                                         0.1   \n",
       "3                                         0.1   \n",
       "4                                         0.1   \n",
       "...                                       ...   \n",
       "99436                                     0.1   \n",
       "99437                                     0.1   \n",
       "99438                                     0.1   \n",
       "99439                                     0.1   \n",
       "99440                                     0.1   \n",
       "\n",
       "       Number of Orders Last Trimester  Average Number of Items per Order  \\\n",
       "0                                  0.0                                1.0   \n",
       "1                                  0.0                                1.0   \n",
       "2                                  0.0                                1.0   \n",
       "3                                  0.0                                1.0   \n",
       "4                                  0.0                                1.0   \n",
       "...                                ...                                ...   \n",
       "99436                              0.0                                1.0   \n",
       "99437                              0.0                                1.0   \n",
       "99438                              0.0                                1.0   \n",
       "99439                              0.0                                1.0   \n",
       "99440                              0.0                                1.0   \n",
       "\n",
       "       Total Payment  Average Payment per Trimester  Payment Last Trimester  \\\n",
       "0             146.87                         14.687                     0.0   \n",
       "1             335.48                         33.548                     0.0   \n",
       "2             157.73                         15.773                     0.0   \n",
       "3             173.30                         17.330                     0.0   \n",
       "4             252.25                         25.225                     0.0   \n",
       "...              ...                            ...                     ...   \n",
       "99436          88.78                          8.878                     0.0   \n",
       "99437         129.06                         12.906                     0.0   \n",
       "99438          56.04                          5.604                     0.0   \n",
       "99439         711.07                         71.107                     0.0   \n",
       "99440          21.77                          2.177                     0.0   \n",
       "\n",
       "       Average Payment per Order  Average Payment Installments  \\\n",
       "0                         146.87                           2.0   \n",
       "1                         335.48                           8.0   \n",
       "2                         157.73                           7.0   \n",
       "3                         173.30                           1.0   \n",
       "4                         252.25                           8.0   \n",
       "...                          ...                           ...   \n",
       "99436                      88.78                           6.0   \n",
       "99437                     129.06                           3.0   \n",
       "99438                      56.04                           5.0   \n",
       "99439                     711.07                           2.0   \n",
       "99440                      21.77                           1.0   \n",
       "\n",
       "       Number of Different Product Categories  \\\n",
       "0                                         1.0   \n",
       "1                                         1.0   \n",
       "2                                         1.0   \n",
       "3                                         1.0   \n",
       "4                                         1.0   \n",
       "...                                       ...   \n",
       "99436                                     1.0   \n",
       "99437                                     1.0   \n",
       "99438                                     1.0   \n",
       "99439                                     1.0   \n",
       "99440                                     1.0   \n",
       "\n",
       "       Percentage of Orders in the Same City  Number or Reviews Given  \\\n",
       "0                                        NaN                      1.0   \n",
       "1                                        NaN                      1.0   \n",
       "2                                        NaN                      1.0   \n",
       "3                                        NaN                      1.0   \n",
       "4                                        NaN                      1.0   \n",
       "...                                      ...                      ...   \n",
       "99436                                    NaN                      1.0   \n",
       "99437                                    NaN                      1.0   \n",
       "99438                                    NaN                      1.0   \n",
       "99439                                    NaN                      1.0   \n",
       "99440                                    NaN                      1.0   \n",
       "\n",
       "       Percentage of Reviews Given  Average Time to Review (days)  \\\n",
       "0                              1.0                            9.0   \n",
       "1                              1.0                           17.0   \n",
       "2                              1.0                           26.0   \n",
       "3                              1.0                           15.0   \n",
       "4                              1.0                           11.0   \n",
       "...                            ...                            ...   \n",
       "99436                          1.0                            6.0   \n",
       "99437                          1.0                            7.0   \n",
       "99438                          1.0                           25.0   \n",
       "99439                          1.0                           13.0   \n",
       "99440                          1.0                            7.0   \n",
       "\n",
       "       Average Score Given  \n",
       "0                      4.0  \n",
       "1                      5.0  \n",
       "2                      5.0  \n",
       "3                      5.0  \n",
       "4                      5.0  \n",
       "...                    ...  \n",
       "99436                  4.0  \n",
       "99437                  5.0  \n",
       "99438                  1.0  \n",
       "99439                  5.0  \n",
       "99440                  5.0  \n",
       "\n",
       "[99441 rows x 18 columns]"
      ]
     },
     "execution_count": 2,
     "metadata": {},
     "output_type": "execute_result"
    }
   ],
   "source": [
    "data_df = pd.read_csv('Ressources' + '/' + 'TempData.csv')\n",
    "data_df.drop(columns='Orders Made', inplace=True)\n",
    "data_df"
   ]
  },
  {
   "cell_type": "markdown",
   "id": "0a60fbc2-9ca2-4282-8489-a4142cadf0c2",
   "metadata": {},
   "source": [
    "# Preprocessing the Data #"
   ]
  },
  {
   "cell_type": "markdown",
   "id": "83f1a2f6-fe04-44ec-987d-782c454d0430",
   "metadata": {},
   "source": [
    "## Basic Informations ##"
   ]
  },
  {
   "cell_type": "code",
   "execution_count": 3,
   "id": "45c4f281-d60c-4389-953e-825ee4727d4f",
   "metadata": {},
   "outputs": [
    {
     "name": "stdout",
     "output_type": "stream",
     "text": [
      "Dataset's size : (99441, 18)\n",
      "\n",
      "Columns' Names\n",
      "['Customer ID', 'Customer City', 'Last Order Date', 'Total Number of Orders', 'Average Number of Orders per Trimester', 'Number of Orders Last Trimester', 'Average Number of Items per Order', 'Total Payment', 'Average Payment per Trimester', 'Payment Last Trimester', 'Average Payment per Order', 'Average Payment Installments', 'Number of Different Product Categories', 'Percentage of Orders in the Same City', 'Number or Reviews Given', 'Percentage of Reviews Given', 'Average Time to Review (days)', 'Average Score Given']\n"
     ]
    }
   ],
   "source": [
    "# Dataset Informations\n",
    "print(\"Dataset's size : {}\\n\\nColumns' Names\\n{}\"\n",
    "      .format(np.shape(data_df),[k for l,k in enumerate(data_df.columns)]))"
   ]
  },
  {
   "cell_type": "markdown",
   "id": "1f6f36d6-fe11-4f44-9f7b-da3ab321f9a7",
   "metadata": {},
   "source": [
    "## Initializing Variables ##"
   ]
  },
  {
   "cell_type": "code",
   "execution_count": 4,
   "id": "044d70da-37cc-4a41-8b3e-7392c38f56fd",
   "metadata": {},
   "outputs": [],
   "source": [
    "numerical_columns = ['Last Order Date', \n",
    "                     'Total Number of Orders', \n",
    "                     'Average Number of Orders per Trimester', \n",
    "                     'Number of Orders Last Trimester', \n",
    "                     'Average Number of Items per Order', \n",
    "                     'Total Payment', \n",
    "                     'Average Payment per Trimester', \n",
    "                     'Payment Last Trimester', \n",
    "                     'Average Payment per Order', \n",
    "                     'Average Payment Installments', \n",
    "                     'Number of Different Product Categories', \n",
    "                     'Percentage of Orders in the Same City', \n",
    "                     'Number or Reviews Given', \n",
    "                     'Percentage of Reviews Given', \n",
    "                     'Average Time to Review (days)', \n",
    "                     'Average Score Given']"
   ]
  },
  {
   "cell_type": "markdown",
   "id": "8dde56ae-d96b-453b-869d-33d1952bcd40",
   "metadata": {},
   "source": [
    "## Pipelines ##\n",
    "\n",
    "We will first define some pipelines used for the preprocessing. Here, we will transform the strings in numbers and rescale the numerical variables."
   ]
  },
  {
   "cell_type": "code",
   "execution_count": 5,
   "id": "55c24d76-f4b2-4135-9b59-8899b5c5ea12",
   "metadata": {},
   "outputs": [],
   "source": [
    "ID_pipe = Pipeline([\n",
    "    ('imputer', SimpleImputer(strategy='most_frequent')),\n",
    "    ('encoder', OrdinalEncoder(handle_unknown='use_encoded_value', unknown_value = np.nan)),\n",
    "    ('scaler', RobustScaler(with_centering=False))\n",
    "])\n",
    "city_pipe = Pipeline([\n",
    "    ('imputer', SimpleImputer(strategy='most_frequent')),\n",
    "    ('encoder', OneHotEncoder(handle_unknown='ignore')),\n",
    "    ('scaler', RobustScaler(with_centering=False))\n",
    "])\n",
    "numerical_pipe = Pipeline([\n",
    "    ('imputer', SimpleImputer(strategy='constant')),\n",
    "    ('scaler', RobustScaler())\n",
    "])\n",
    "preprocessing = ColumnTransformer(\n",
    "    [('ID', ID_pipe, ['Customer ID']),\n",
    "     ('city', city_pipe, ['Customer City']),\n",
    "     ('num', numerical_pipe, numerical_columns),\n",
    "    ])"
   ]
  },
  {
   "cell_type": "markdown",
   "id": "14749fab-ee4c-4b02-a365-c7163d18836a",
   "metadata": {},
   "source": [
    "## Preprocessing in itself ##"
   ]
  },
  {
   "cell_type": "code",
   "execution_count": 6,
   "id": "d4ef621b-129e-41b1-a816-4ced49147495",
   "metadata": {},
   "outputs": [],
   "source": [
    "X = data_df\n",
    "X = preprocessing.fit_transform(X)"
   ]
  },
  {
   "cell_type": "markdown",
   "id": "b32db981-b35f-4561-8e9e-8a5945e898fb",
   "metadata": {},
   "source": [
    "# Reducing the Data #\n",
    "\n",
    "We will now look into reducing the data to be able to visualise it and to simplify the segmentation. We will try several methods of reduction to see what work the best."
   ]
  },
  {
   "cell_type": "markdown",
   "id": "27a30f06-3a63-4ba8-bfcd-72564e043ddb",
   "metadata": {},
   "source": [
    "## PCA ##\n",
    "\n",
    "We will first try with a PCA since it is one of the most common dimension reduction tool."
   ]
  },
  {
   "cell_type": "code",
   "execution_count": 26,
   "id": "1fd8981f-01c0-44b4-b86d-665698ef78fc",
   "metadata": {},
   "outputs": [
    {
     "name": "stdout",
     "output_type": "stream",
     "text": [
      "Percentage of variance explained by each component : \n",
      "[0.92464183 0.04765526]\n",
      "\n",
      "Sum of it:\n",
      "0.972297085457244\n"
     ]
    }
   ],
   "source": [
    "X_dense = X.toarray()\n",
    "pca = PCA(n_components=2)\n",
    "X_pca = pca.fit_transform(X_dense)\n",
    "\n",
    "print('Percentage of variance explained by each component : \\n{}\\n'.format(pca.explained_variance_ratio_))\n",
    "print('Sum of it:\\n{}'.format(pca.explained_variance_ratio_.sum()))"
   ]
  },
  {
   "cell_type": "markdown",
   "id": "a85d86ff-8b50-488a-8880-fb352a310043",
   "metadata": {},
   "source": [
    "## Truncated SVD ##\n",
    "\n",
    "We then chose the truncated SVD because our data is composed of a sparse matrix, which isn't handled by PCA."
   ]
  },
  {
   "cell_type": "code",
   "execution_count": 47,
   "id": "dd4e3c95-703c-40e5-8fe2-2977bc7e9f1f",
   "metadata": {},
   "outputs": [
    {
     "name": "stdout",
     "output_type": "stream",
     "text": [
      "Percentage of variance explained by each component : \n",
      "[0.92431103 0.04751452]\n",
      "\n",
      "Sum of it:\n",
      "0.9718255432992556\n"
     ]
    }
   ],
   "source": [
    "svd = TruncatedSVD(n_components=2)\n",
    "X_svd = svd.fit(X)\n",
    "\n",
    "print('Percentage of variance explained by each component : \\n{}\\n'.format(svd.explained_variance_ratio_))\n",
    "print('Sum of it:\\n{}'.format(svd.explained_variance_ratio_.sum()))"
   ]
  },
  {
   "cell_type": "markdown",
   "id": "d0322bf9-7653-4aa6-998c-11e9325058a9",
   "metadata": {},
   "source": [
    "## MDS ##"
   ]
  },
  {
   "cell_type": "code",
   "execution_count": 57,
   "id": "e953198a-3434-4180-8a4f-503a68748f70",
   "metadata": {},
   "outputs": [
    {
     "ename": "MemoryError",
     "evalue": "Unable to allocate 73.7 GiB for an array with shape (99441, 99441) and data type float64",
     "output_type": "error",
     "traceback": [
      "\u001b[0;31m---------------------------------------------------------------------------\u001b[0m",
      "\u001b[0;31mMemoryError\u001b[0m                               Traceback (most recent call last)",
      "\u001b[0;32m<ipython-input-57-7d8eac4ccaad>\u001b[0m in \u001b[0;36m<module>\u001b[0;34m\u001b[0m\n\u001b[1;32m      1\u001b[0m \u001b[0mX_dense\u001b[0m \u001b[0;34m=\u001b[0m \u001b[0mX\u001b[0m\u001b[0;34m.\u001b[0m\u001b[0mtoarray\u001b[0m\u001b[0;34m(\u001b[0m\u001b[0;34m)\u001b[0m\u001b[0;34m\u001b[0m\u001b[0;34m\u001b[0m\u001b[0m\n\u001b[1;32m      2\u001b[0m \u001b[0mmds\u001b[0m \u001b[0;34m=\u001b[0m \u001b[0mMDS\u001b[0m\u001b[0;34m(\u001b[0m\u001b[0mn_components\u001b[0m\u001b[0;34m=\u001b[0m\u001b[0;36m2\u001b[0m\u001b[0;34m)\u001b[0m\u001b[0;34m\u001b[0m\u001b[0;34m\u001b[0m\u001b[0m\n\u001b[0;32m----> 3\u001b[0;31m \u001b[0mX_mds\u001b[0m \u001b[0;34m=\u001b[0m \u001b[0mmds\u001b[0m\u001b[0;34m.\u001b[0m\u001b[0mfit\u001b[0m\u001b[0;34m(\u001b[0m\u001b[0mX_dense\u001b[0m\u001b[0;34m)\u001b[0m\u001b[0;34m\u001b[0m\u001b[0;34m\u001b[0m\u001b[0m\n\u001b[0m\u001b[1;32m      4\u001b[0m \u001b[0;34m\u001b[0m\u001b[0m\n\u001b[1;32m      5\u001b[0m \u001b[0mprint\u001b[0m\u001b[0;34m(\u001b[0m\u001b[0;34m'Percentage of variance explained by each component : \\n{}\\n'\u001b[0m\u001b[0;34m.\u001b[0m\u001b[0mformat\u001b[0m\u001b[0;34m(\u001b[0m\u001b[0mmds\u001b[0m\u001b[0;34m.\u001b[0m\u001b[0mexplained_variance_ratio_\u001b[0m\u001b[0;34m)\u001b[0m\u001b[0;34m)\u001b[0m\u001b[0;34m\u001b[0m\u001b[0;34m\u001b[0m\u001b[0m\n",
      "\u001b[0;32m~/anaconda3/lib/python3.8/site-packages/sklearn/manifold/_mds.py\u001b[0m in \u001b[0;36mfit\u001b[0;34m(self, X, y, init)\u001b[0m\n\u001b[1;32m    416\u001b[0m             \u001b[0mchosen\u001b[0m \u001b[0marray\u001b[0m\u001b[0;34m.\u001b[0m\u001b[0;34m\u001b[0m\u001b[0;34m\u001b[0m\u001b[0m\n\u001b[1;32m    417\u001b[0m         \"\"\"\n\u001b[0;32m--> 418\u001b[0;31m         \u001b[0mself\u001b[0m\u001b[0;34m.\u001b[0m\u001b[0mfit_transform\u001b[0m\u001b[0;34m(\u001b[0m\u001b[0mX\u001b[0m\u001b[0;34m,\u001b[0m \u001b[0minit\u001b[0m\u001b[0;34m=\u001b[0m\u001b[0minit\u001b[0m\u001b[0;34m)\u001b[0m\u001b[0;34m\u001b[0m\u001b[0;34m\u001b[0m\u001b[0m\n\u001b[0m\u001b[1;32m    419\u001b[0m         \u001b[0;32mreturn\u001b[0m \u001b[0mself\u001b[0m\u001b[0;34m\u001b[0m\u001b[0;34m\u001b[0m\u001b[0m\n\u001b[1;32m    420\u001b[0m \u001b[0;34m\u001b[0m\u001b[0m\n",
      "\u001b[0;32m~/anaconda3/lib/python3.8/site-packages/sklearn/manifold/_mds.py\u001b[0m in \u001b[0;36mfit_transform\u001b[0;34m(self, X, y, init)\u001b[0m\n\u001b[1;32m    447\u001b[0m             \u001b[0mself\u001b[0m\u001b[0;34m.\u001b[0m\u001b[0mdissimilarity_matrix_\u001b[0m \u001b[0;34m=\u001b[0m \u001b[0mX\u001b[0m\u001b[0;34m\u001b[0m\u001b[0;34m\u001b[0m\u001b[0m\n\u001b[1;32m    448\u001b[0m         \u001b[0;32melif\u001b[0m \u001b[0mself\u001b[0m\u001b[0;34m.\u001b[0m\u001b[0mdissimilarity\u001b[0m \u001b[0;34m==\u001b[0m \u001b[0;34m\"euclidean\"\u001b[0m\u001b[0;34m:\u001b[0m\u001b[0;34m\u001b[0m\u001b[0;34m\u001b[0m\u001b[0m\n\u001b[0;32m--> 449\u001b[0;31m             \u001b[0mself\u001b[0m\u001b[0;34m.\u001b[0m\u001b[0mdissimilarity_matrix_\u001b[0m \u001b[0;34m=\u001b[0m \u001b[0meuclidean_distances\u001b[0m\u001b[0;34m(\u001b[0m\u001b[0mX\u001b[0m\u001b[0;34m)\u001b[0m\u001b[0;34m\u001b[0m\u001b[0;34m\u001b[0m\u001b[0m\n\u001b[0m\u001b[1;32m    450\u001b[0m         \u001b[0;32melse\u001b[0m\u001b[0;34m:\u001b[0m\u001b[0;34m\u001b[0m\u001b[0;34m\u001b[0m\u001b[0m\n\u001b[1;32m    451\u001b[0m             raise ValueError(\"Proximity must be 'precomputed' or 'euclidean'.\"\n",
      "\u001b[0;32m~/anaconda3/lib/python3.8/site-packages/sklearn/utils/validation.py\u001b[0m in \u001b[0;36minner_f\u001b[0;34m(*args, **kwargs)\u001b[0m\n\u001b[1;32m     61\u001b[0m             \u001b[0mextra_args\u001b[0m \u001b[0;34m=\u001b[0m \u001b[0mlen\u001b[0m\u001b[0;34m(\u001b[0m\u001b[0margs\u001b[0m\u001b[0;34m)\u001b[0m \u001b[0;34m-\u001b[0m \u001b[0mlen\u001b[0m\u001b[0;34m(\u001b[0m\u001b[0mall_args\u001b[0m\u001b[0;34m)\u001b[0m\u001b[0;34m\u001b[0m\u001b[0;34m\u001b[0m\u001b[0m\n\u001b[1;32m     62\u001b[0m             \u001b[0;32mif\u001b[0m \u001b[0mextra_args\u001b[0m \u001b[0;34m<=\u001b[0m \u001b[0;36m0\u001b[0m\u001b[0;34m:\u001b[0m\u001b[0;34m\u001b[0m\u001b[0;34m\u001b[0m\u001b[0m\n\u001b[0;32m---> 63\u001b[0;31m                 \u001b[0;32mreturn\u001b[0m \u001b[0mf\u001b[0m\u001b[0;34m(\u001b[0m\u001b[0;34m*\u001b[0m\u001b[0margs\u001b[0m\u001b[0;34m,\u001b[0m \u001b[0;34m**\u001b[0m\u001b[0mkwargs\u001b[0m\u001b[0;34m)\u001b[0m\u001b[0;34m\u001b[0m\u001b[0;34m\u001b[0m\u001b[0m\n\u001b[0m\u001b[1;32m     64\u001b[0m \u001b[0;34m\u001b[0m\u001b[0m\n\u001b[1;32m     65\u001b[0m             \u001b[0;31m# extra_args > 0\u001b[0m\u001b[0;34m\u001b[0m\u001b[0;34m\u001b[0m\u001b[0;34m\u001b[0m\u001b[0m\n",
      "\u001b[0;32m~/anaconda3/lib/python3.8/site-packages/sklearn/metrics/pairwise.py\u001b[0m in \u001b[0;36meuclidean_distances\u001b[0;34m(X, Y, Y_norm_squared, squared, X_norm_squared)\u001b[0m\n\u001b[1;32m    311\u001b[0m     \u001b[0;32melse\u001b[0m\u001b[0;34m:\u001b[0m\u001b[0;34m\u001b[0m\u001b[0;34m\u001b[0m\u001b[0m\n\u001b[1;32m    312\u001b[0m         \u001b[0;31m# if dtype is already float64, no need to chunk and upcast\u001b[0m\u001b[0;34m\u001b[0m\u001b[0;34m\u001b[0m\u001b[0;34m\u001b[0m\u001b[0m\n\u001b[0;32m--> 313\u001b[0;31m         \u001b[0mdistances\u001b[0m \u001b[0;34m=\u001b[0m \u001b[0;34m-\u001b[0m \u001b[0;36m2\u001b[0m \u001b[0;34m*\u001b[0m \u001b[0msafe_sparse_dot\u001b[0m\u001b[0;34m(\u001b[0m\u001b[0mX\u001b[0m\u001b[0;34m,\u001b[0m \u001b[0mY\u001b[0m\u001b[0;34m.\u001b[0m\u001b[0mT\u001b[0m\u001b[0;34m,\u001b[0m \u001b[0mdense_output\u001b[0m\u001b[0;34m=\u001b[0m\u001b[0;32mTrue\u001b[0m\u001b[0;34m)\u001b[0m\u001b[0;34m\u001b[0m\u001b[0;34m\u001b[0m\u001b[0m\n\u001b[0m\u001b[1;32m    314\u001b[0m         \u001b[0mdistances\u001b[0m \u001b[0;34m+=\u001b[0m \u001b[0mXX\u001b[0m\u001b[0;34m\u001b[0m\u001b[0;34m\u001b[0m\u001b[0m\n\u001b[1;32m    315\u001b[0m         \u001b[0mdistances\u001b[0m \u001b[0;34m+=\u001b[0m \u001b[0mYY\u001b[0m\u001b[0;34m\u001b[0m\u001b[0;34m\u001b[0m\u001b[0m\n",
      "\u001b[0;32m~/anaconda3/lib/python3.8/site-packages/sklearn/utils/validation.py\u001b[0m in \u001b[0;36minner_f\u001b[0;34m(*args, **kwargs)\u001b[0m\n\u001b[1;32m     61\u001b[0m             \u001b[0mextra_args\u001b[0m \u001b[0;34m=\u001b[0m \u001b[0mlen\u001b[0m\u001b[0;34m(\u001b[0m\u001b[0margs\u001b[0m\u001b[0;34m)\u001b[0m \u001b[0;34m-\u001b[0m \u001b[0mlen\u001b[0m\u001b[0;34m(\u001b[0m\u001b[0mall_args\u001b[0m\u001b[0;34m)\u001b[0m\u001b[0;34m\u001b[0m\u001b[0;34m\u001b[0m\u001b[0m\n\u001b[1;32m     62\u001b[0m             \u001b[0;32mif\u001b[0m \u001b[0mextra_args\u001b[0m \u001b[0;34m<=\u001b[0m \u001b[0;36m0\u001b[0m\u001b[0;34m:\u001b[0m\u001b[0;34m\u001b[0m\u001b[0;34m\u001b[0m\u001b[0m\n\u001b[0;32m---> 63\u001b[0;31m                 \u001b[0;32mreturn\u001b[0m \u001b[0mf\u001b[0m\u001b[0;34m(\u001b[0m\u001b[0;34m*\u001b[0m\u001b[0margs\u001b[0m\u001b[0;34m,\u001b[0m \u001b[0;34m**\u001b[0m\u001b[0mkwargs\u001b[0m\u001b[0;34m)\u001b[0m\u001b[0;34m\u001b[0m\u001b[0;34m\u001b[0m\u001b[0m\n\u001b[0m\u001b[1;32m     64\u001b[0m \u001b[0;34m\u001b[0m\u001b[0m\n\u001b[1;32m     65\u001b[0m             \u001b[0;31m# extra_args > 0\u001b[0m\u001b[0;34m\u001b[0m\u001b[0;34m\u001b[0m\u001b[0;34m\u001b[0m\u001b[0m\n",
      "\u001b[0;32m~/anaconda3/lib/python3.8/site-packages/sklearn/utils/extmath.py\u001b[0m in \u001b[0;36msafe_sparse_dot\u001b[0;34m(a, b, dense_output)\u001b[0m\n\u001b[1;32m    150\u001b[0m             \u001b[0mret\u001b[0m \u001b[0;34m=\u001b[0m \u001b[0mnp\u001b[0m\u001b[0;34m.\u001b[0m\u001b[0mdot\u001b[0m\u001b[0;34m(\u001b[0m\u001b[0ma\u001b[0m\u001b[0;34m,\u001b[0m \u001b[0mb\u001b[0m\u001b[0;34m)\u001b[0m\u001b[0;34m\u001b[0m\u001b[0;34m\u001b[0m\u001b[0m\n\u001b[1;32m    151\u001b[0m     \u001b[0;32melse\u001b[0m\u001b[0;34m:\u001b[0m\u001b[0;34m\u001b[0m\u001b[0;34m\u001b[0m\u001b[0m\n\u001b[0;32m--> 152\u001b[0;31m         \u001b[0mret\u001b[0m \u001b[0;34m=\u001b[0m \u001b[0ma\u001b[0m \u001b[0;34m@\u001b[0m \u001b[0mb\u001b[0m\u001b[0;34m\u001b[0m\u001b[0;34m\u001b[0m\u001b[0m\n\u001b[0m\u001b[1;32m    153\u001b[0m \u001b[0;34m\u001b[0m\u001b[0m\n\u001b[1;32m    154\u001b[0m     if (sparse.issparse(a) and sparse.issparse(b)\n",
      "\u001b[0;31mMemoryError\u001b[0m: Unable to allocate 73.7 GiB for an array with shape (99441, 99441) and data type float64"
     ]
    }
   ],
   "source": [
    "mds = MDS(n_components=2)\n",
    "X_mds = mds.fit(X_dense)\n",
    "\n",
    "print('Percentage of variance explained by each component : \\n{}\\n'.format(mds.explained_variance_ratio_))\n",
    "print('Sum of it:\\n{}'.format(mds.explained_variance_ratio_.sum()))"
   ]
  },
  {
   "cell_type": "markdown",
   "id": "fba95b85-2977-4905-83a0-447cd7b7f8c5",
   "metadata": {},
   "source": [
    "## Isomap ##"
   ]
  },
  {
   "cell_type": "code",
   "execution_count": 63,
   "id": "740ef343-e497-4d2f-9c92-04ae47fdfa3d",
   "metadata": {},
   "outputs": [
    {
     "ename": "MemoryError",
     "evalue": "Unable to allocate 73.7 GiB for an array with shape (99441, 99441) and data type float64",
     "output_type": "error",
     "traceback": [
      "\u001b[0;31m---------------------------------------------------------------------------\u001b[0m",
      "\u001b[0;31mMemoryError\u001b[0m                               Traceback (most recent call last)",
      "\u001b[0;32m<ipython-input-63-59b4960511a6>\u001b[0m in \u001b[0;36m<module>\u001b[0;34m\u001b[0m\n\u001b[1;32m      1\u001b[0m \u001b[0miso\u001b[0m \u001b[0;34m=\u001b[0m \u001b[0mIsomap\u001b[0m\u001b[0;34m(\u001b[0m\u001b[0mn_components\u001b[0m\u001b[0;34m=\u001b[0m\u001b[0;36m2\u001b[0m\u001b[0;34m)\u001b[0m\u001b[0;34m\u001b[0m\u001b[0;34m\u001b[0m\u001b[0m\n\u001b[0;32m----> 2\u001b[0;31m \u001b[0mX_isomap\u001b[0m \u001b[0;34m=\u001b[0m \u001b[0miso\u001b[0m\u001b[0;34m.\u001b[0m\u001b[0mfit\u001b[0m\u001b[0;34m(\u001b[0m\u001b[0mX_dense\u001b[0m\u001b[0;34m)\u001b[0m\u001b[0;34m\u001b[0m\u001b[0;34m\u001b[0m\u001b[0m\n\u001b[0m\u001b[1;32m      3\u001b[0m \u001b[0;34m\u001b[0m\u001b[0m\n\u001b[1;32m      4\u001b[0m \u001b[0mprint\u001b[0m\u001b[0;34m(\u001b[0m\u001b[0;34m'Percentage of variance explained by each component : \\n{}\\n'\u001b[0m\u001b[0;34m.\u001b[0m\u001b[0mformat\u001b[0m\u001b[0;34m(\u001b[0m\u001b[0miso\u001b[0m\u001b[0;34m.\u001b[0m\u001b[0mexplained_variance_ratio_\u001b[0m\u001b[0;34m)\u001b[0m\u001b[0;34m)\u001b[0m\u001b[0;34m\u001b[0m\u001b[0;34m\u001b[0m\u001b[0m\n\u001b[1;32m      5\u001b[0m \u001b[0mprint\u001b[0m\u001b[0;34m(\u001b[0m\u001b[0;34m'Sum of it:\\n{}'\u001b[0m\u001b[0;34m.\u001b[0m\u001b[0mformat\u001b[0m\u001b[0;34m(\u001b[0m\u001b[0miso\u001b[0m\u001b[0;34m.\u001b[0m\u001b[0mexplained_variance_ratio_\u001b[0m\u001b[0;34m.\u001b[0m\u001b[0msum\u001b[0m\u001b[0;34m(\u001b[0m\u001b[0;34m)\u001b[0m\u001b[0;34m)\u001b[0m\u001b[0;34m)\u001b[0m\u001b[0;34m\u001b[0m\u001b[0;34m\u001b[0m\u001b[0m\n",
      "\u001b[0;32m~/anaconda3/lib/python3.8/site-packages/sklearn/manifold/_isomap.py\u001b[0m in \u001b[0;36mfit\u001b[0;34m(self, X, y)\u001b[0m\n\u001b[1;32m    209\u001b[0m         \u001b[0mself\u001b[0m \u001b[0;34m:\u001b[0m \u001b[0mreturns\u001b[0m \u001b[0man\u001b[0m \u001b[0minstance\u001b[0m \u001b[0mof\u001b[0m \u001b[0mself\u001b[0m\u001b[0;34m.\u001b[0m\u001b[0;34m\u001b[0m\u001b[0;34m\u001b[0m\u001b[0m\n\u001b[1;32m    210\u001b[0m         \"\"\"\n\u001b[0;32m--> 211\u001b[0;31m         \u001b[0mself\u001b[0m\u001b[0;34m.\u001b[0m\u001b[0m_fit_transform\u001b[0m\u001b[0;34m(\u001b[0m\u001b[0mX\u001b[0m\u001b[0;34m)\u001b[0m\u001b[0;34m\u001b[0m\u001b[0;34m\u001b[0m\u001b[0m\n\u001b[0m\u001b[1;32m    212\u001b[0m         \u001b[0;32mreturn\u001b[0m \u001b[0mself\u001b[0m\u001b[0;34m\u001b[0m\u001b[0;34m\u001b[0m\u001b[0m\n\u001b[1;32m    213\u001b[0m \u001b[0;34m\u001b[0m\u001b[0m\n",
      "\u001b[0;32m~/anaconda3/lib/python3.8/site-packages/sklearn/manifold/_isomap.py\u001b[0m in \u001b[0;36m_fit_transform\u001b[0;34m(self, X)\u001b[0m\n\u001b[1;32m    161\u001b[0m                                mode='distance', n_jobs=self.n_jobs)\n\u001b[1;32m    162\u001b[0m \u001b[0;34m\u001b[0m\u001b[0m\n\u001b[0;32m--> 163\u001b[0;31m         self.dist_matrix_ = graph_shortest_path(kng,\n\u001b[0m\u001b[1;32m    164\u001b[0m                                                 \u001b[0mmethod\u001b[0m\u001b[0;34m=\u001b[0m\u001b[0mself\u001b[0m\u001b[0;34m.\u001b[0m\u001b[0mpath_method\u001b[0m\u001b[0;34m,\u001b[0m\u001b[0;34m\u001b[0m\u001b[0;34m\u001b[0m\u001b[0m\n\u001b[1;32m    165\u001b[0m                                                 directed=False)\n",
      "\u001b[0;32msklearn/utils/graph_shortest_path.pyx\u001b[0m in \u001b[0;36msklearn.utils.graph_shortest_path.graph_shortest_path\u001b[0;34m()\u001b[0m\n",
      "\u001b[0;31mMemoryError\u001b[0m: Unable to allocate 73.7 GiB for an array with shape (99441, 99441) and data type float64"
     ]
    }
   ],
   "source": [
    "iso = Isomap(n_components=2)\n",
    "X_isomap = iso.fit(X_dense)\n",
    "\n",
    "print('Percentage of variance explained by each component : \\n{}\\n'.format(iso.explained_variance_ratio_))\n",
    "print('Sum of it:\\n{}'.format(iso.explained_variance_ratio_.sum()))"
   ]
  },
  {
   "cell_type": "markdown",
   "id": "d0483837-b819-4806-9d8d-22ea6d3354e9",
   "metadata": {},
   "source": [
    "## t-SNE ##"
   ]
  },
  {
   "cell_type": "code",
   "execution_count": 33,
   "id": "9860ec88-22b2-4764-91a4-5b41f15d23ce",
   "metadata": {},
   "outputs": [],
   "source": [
    "tsne = TSNE(n_components=2, perplexity=300, n_iter=600, init='pca')\n",
    "X_tsne = tsne.fit(X_dense)"
   ]
  },
  {
   "cell_type": "code",
   "execution_count": 29,
   "id": "05fc5a15-347e-4b09-959e-e9629a7ec6fa",
   "metadata": {},
   "outputs": [],
   "source": [
    "def plot_embedding(X, title=None):\n",
    "    x_min, x_max = np.min(X, 0), np.max(X, 0)\n",
    "    X = (X - x_min) / (x_max - x_min)\n",
    "\n",
    "    plt.figure(figsize=(15, 15))\n",
    "    ax = plt.subplot(111)\n",
    "\n",
    "    if hasattr(offsetbox, 'AnnotationBbox'):\n",
    "        shown_images = np.array([[1., 1.]])\n",
    "        for i in range(data.shape[0]):\n",
    "            dist = np.sum((X[i] - shown_images) ** 2, 1)\n",
    "            if np.min(dist) < 2e-3:\n",
    "                continue\n",
    "            shown_images = np.r_[shown_images, [X[i]]]\n",
    "            props={ 'boxstyle':'round', 'edgecolor':'white'}\n",
    "            imagebox = offsetbox.AnnotationBbox(offsetbox.OffsetImage(images[i], cmap=plt.cm.gray, zoom=0.5), X[i], bboxprops=props)\n",
    "            ax.add_artist(imagebox)\n",
    "    if title is not None:\n",
    "        plt.title(title)"
   ]
  },
  {
   "cell_type": "code",
   "execution_count": 34,
   "id": "20f8266a-5366-4c8a-98e7-d0e888e6b1ee",
   "metadata": {},
   "outputs": [
    {
     "ename": "TypeError",
     "evalue": "unsupported operand type(s) for -: 'TSNE' and 'TSNE'",
     "output_type": "error",
     "traceback": [
      "\u001b[0;31m---------------------------------------------------------------------------\u001b[0m",
      "\u001b[0;31mTypeError\u001b[0m                                 Traceback (most recent call last)",
      "\u001b[0;32m<ipython-input-34-8e2ecf04ed3c>\u001b[0m in \u001b[0;36m<module>\u001b[0;34m\u001b[0m\n\u001b[0;32m----> 1\u001b[0;31m \u001b[0mplot_embedding\u001b[0m\u001b[0;34m(\u001b[0m\u001b[0mX_tsne\u001b[0m\u001b[0;34m,\u001b[0m \u001b[0;34m\"ghirweofhwop\"\u001b[0m\u001b[0;34m)\u001b[0m\u001b[0;34m\u001b[0m\u001b[0;34m\u001b[0m\u001b[0m\n\u001b[0m",
      "\u001b[0;32m<ipython-input-29-f3814e6b15f9>\u001b[0m in \u001b[0;36mplot_embedding\u001b[0;34m(X, title)\u001b[0m\n\u001b[1;32m      1\u001b[0m \u001b[0;32mdef\u001b[0m \u001b[0mplot_embedding\u001b[0m\u001b[0;34m(\u001b[0m\u001b[0mX\u001b[0m\u001b[0;34m,\u001b[0m \u001b[0mtitle\u001b[0m\u001b[0;34m=\u001b[0m\u001b[0;32mNone\u001b[0m\u001b[0;34m)\u001b[0m\u001b[0;34m:\u001b[0m\u001b[0;34m\u001b[0m\u001b[0;34m\u001b[0m\u001b[0m\n\u001b[1;32m      2\u001b[0m     \u001b[0mx_min\u001b[0m\u001b[0;34m,\u001b[0m \u001b[0mx_max\u001b[0m \u001b[0;34m=\u001b[0m \u001b[0mnp\u001b[0m\u001b[0;34m.\u001b[0m\u001b[0mmin\u001b[0m\u001b[0;34m(\u001b[0m\u001b[0mX\u001b[0m\u001b[0;34m,\u001b[0m \u001b[0;36m0\u001b[0m\u001b[0;34m)\u001b[0m\u001b[0;34m,\u001b[0m \u001b[0mnp\u001b[0m\u001b[0;34m.\u001b[0m\u001b[0mmax\u001b[0m\u001b[0;34m(\u001b[0m\u001b[0mX\u001b[0m\u001b[0;34m,\u001b[0m \u001b[0;36m0\u001b[0m\u001b[0;34m)\u001b[0m\u001b[0;34m\u001b[0m\u001b[0;34m\u001b[0m\u001b[0m\n\u001b[0;32m----> 3\u001b[0;31m     \u001b[0mX\u001b[0m \u001b[0;34m=\u001b[0m \u001b[0;34m(\u001b[0m\u001b[0mX\u001b[0m \u001b[0;34m-\u001b[0m \u001b[0mx_min\u001b[0m\u001b[0;34m)\u001b[0m \u001b[0;34m/\u001b[0m \u001b[0;34m(\u001b[0m\u001b[0mx_max\u001b[0m \u001b[0;34m-\u001b[0m \u001b[0mx_min\u001b[0m\u001b[0;34m)\u001b[0m\u001b[0;34m\u001b[0m\u001b[0;34m\u001b[0m\u001b[0m\n\u001b[0m\u001b[1;32m      4\u001b[0m \u001b[0;34m\u001b[0m\u001b[0m\n\u001b[1;32m      5\u001b[0m     \u001b[0mplt\u001b[0m\u001b[0;34m.\u001b[0m\u001b[0mfigure\u001b[0m\u001b[0;34m(\u001b[0m\u001b[0mfigsize\u001b[0m\u001b[0;34m=\u001b[0m\u001b[0;34m(\u001b[0m\u001b[0;36m15\u001b[0m\u001b[0;34m,\u001b[0m \u001b[0;36m15\u001b[0m\u001b[0;34m)\u001b[0m\u001b[0;34m)\u001b[0m\u001b[0;34m\u001b[0m\u001b[0;34m\u001b[0m\u001b[0m\n",
      "\u001b[0;31mTypeError\u001b[0m: unsupported operand type(s) for -: 'TSNE' and 'TSNE'"
     ]
    }
   ],
   "source": [
    "plot_embedding(X_tsne, \"ghirweofhwop\")"
   ]
  },
  {
   "cell_type": "markdown",
   "id": "f21ced2c-4a8c-4920-9e57-874dc29da309",
   "metadata": {},
   "source": [
    "# Testing Differents Unspervised Algorithms #"
   ]
  },
  {
   "cell_type": "markdown",
   "id": "df6d61d1-ca1d-4105-a36f-3fa581f560a7",
   "metadata": {},
   "source": [
    "## K-Means ##"
   ]
  },
  {
   "cell_type": "markdown",
   "id": "806ab199-1ee2-442a-8de5-d597d0f4c873",
   "metadata": {},
   "source": [
    "### Testing ###"
   ]
  },
  {
   "cell_type": "code",
   "execution_count": 31,
   "id": "dcf3a6a7-340d-429c-8f67-f2d424121ffa",
   "metadata": {},
   "outputs": [
    {
     "data": {
      "image/png": "[encoded data removed]",
      "text/plain": [
       "<Figure size 576x396 with 2 Axes>"
      ]
     },
     "metadata": {},
     "output_type": "display_data"
    },
    {
     "data": {
      "text/plain": [
       "<AxesSubplot:title={'center':'Distortion Score Elbow for KMeans Clustering'}, xlabel='k', ylabel='distortion score'>"
      ]
     },
     "execution_count": 31,
     "metadata": {},
     "output_type": "execute_result"
    }
   ],
   "source": [
    "model = KMeans()\n",
    "visualizer = KElbowVisualizer(model, k=(4,13))\n",
    "\n",
    "visualizer.fit(X_pca)\n",
    "visualizer.poof()"
   ]
  },
  {
   "cell_type": "code",
   "execution_count": 32,
   "id": "cc4a8c6b-d87a-4d9a-9ae1-35ee40aa17c8",
   "metadata": {
    "tags": []
   },
   "outputs": [
    {
     "name": "stdout",
     "output_type": "stream",
     "text": [
      "Number of Clusters : 6\n",
      "\n"
     ]
    },
    {
     "data": {
      "image/png": "[encoded data removed]",
      "text/plain": [
       "<Figure size 576x396 with 1 Axes>"
      ]
     },
     "metadata": {},
     "output_type": "display_data"
    },
    {
     "name": "stdout",
     "output_type": "stream",
     "text": [
      "Number of Clusters : 7\n",
      "\n"
     ]
    },
    {
     "data": {
      "image/png": "[encoded data removed]",
      "text/plain": [
       "<Figure size 576x396 with 1 Axes>"
      ]
     },
     "metadata": {},
     "output_type": "display_data"
    }
   ],
   "source": [
    "for i in range(6,8):\n",
    "    print('Number of Clusters : {}\\n'.format(i))\n",
    "    model = KMeans(i)\n",
    "    visualizer = SilhouetteVisualizer(model)\n",
    "    \n",
    "    visualizer.fit(X_pca)\n",
    "    visualizer.poof()"
   ]
  },
  {
   "cell_type": "code",
   "execution_count": null,
   "id": "dcbb5603-6a66-4186-8c4a-8a98ec95f910",
   "metadata": {},
   "outputs": [],
   "source": []
  },
  {
   "cell_type": "markdown",
   "id": "6e94fcc4-8630-436f-a00d-9080711d4ec4",
   "metadata": {},
   "source": [
    "### Setting Up ###"
   ]
  },
  {
   "cell_type": "code",
   "execution_count": null,
   "id": "18595419-baec-41d8-9e55-c0590f56059a",
   "metadata": {},
   "outputs": [],
   "source": []
  },
  {
   "cell_type": "markdown",
   "id": "38a9db5a-7614-42d2-b82a-0a74469fcf32",
   "metadata": {},
   "source": [
    "### Evaluating ###"
   ]
  },
  {
   "cell_type": "code",
   "execution_count": null,
   "id": "68d7f993-caa2-4a7a-86e8-35144b5f851e",
   "metadata": {},
   "outputs": [],
   "source": []
  },
  {
   "cell_type": "markdown",
   "id": "9e784dab-7fae-4ba9-9750-dd091858b26c",
   "metadata": {},
   "source": [
    "## DBSCAN ##"
   ]
  },
  {
   "cell_type": "markdown",
   "id": "548fef86-0c11-4a3f-bf0f-5f708414e17f",
   "metadata": {},
   "source": [
    "### Testing ###"
   ]
  },
  {
   "cell_type": "code",
   "execution_count": null,
   "id": "2776046b-0da1-492a-a7a9-99e08af84c69",
   "metadata": {},
   "outputs": [],
   "source": []
  },
  {
   "cell_type": "markdown",
   "id": "b056d59e-c583-4923-a5bd-4917068170b0",
   "metadata": {},
   "source": [
    "### Setting Up ###"
   ]
  },
  {
   "cell_type": "code",
   "execution_count": null,
   "id": "688b56c0-7aab-4d8c-93eb-0c9f33303b8d",
   "metadata": {},
   "outputs": [],
   "source": []
  },
  {
   "cell_type": "markdown",
   "id": "899bd63a-b275-4307-9859-5d05d64b0c7c",
   "metadata": {},
   "source": [
    "### Evaluating ###"
   ]
  },
  {
   "cell_type": "code",
   "execution_count": null,
   "id": "bf741a0d-6d48-4032-a631-2c19d2110695",
   "metadata": {},
   "outputs": [],
   "source": []
  }
 ],
 "metadata": {
  "kernelspec": {
   "display_name": "Python 3",
   "language": "python",
   "name": "python3"
  },
  "language_info": {
   "codemirror_mode": {
    "name": "ipython",
    "version": 3
   },
   "file_extension": ".py",
   "mimetype": "text/x-python",
   "name": "python",
   "nbconvert_exporter": "python",
   "pygments_lexer": "ipython3",
   "version": "3.8.5"
  }
 },
 "nbformat": 4,
 "nbformat_minor": 5
}
