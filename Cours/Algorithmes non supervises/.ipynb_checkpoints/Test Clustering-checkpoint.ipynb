{
 "cells": [
  {
   "cell_type": "code",
   "execution_count": 1,
   "id": "3f4d8997-3b76-4089-94d1-afb6ec2377e3",
   "metadata": {},
   "outputs": [],
   "source": [
    "# Import du jeu de donnee\n",
    "from sklearn import datasets\n",
    "\n",
    "Xall,Yall = datasets.fetch_openml('mnist_784', version=1, return_X_y=True, as_frame=False)"
   ]
  },
  {
   "cell_type": "code",
   "execution_count": 2,
   "id": "3bda11b4-8657-4e5f-8f83-6e59d4ab05c5",
   "metadata": {},
   "outputs": [],
   "source": [
    "# On ne prend que les 50 premieres images\n",
    "\n",
    "X = Xall.data[::50]\n",
    "y = Yall.data[::50]"
   ]
  },
  {
   "cell_type": "code",
   "execution_count": 3,
   "id": "1ccde40f-71ef-422d-9179-83222ec44946",
   "metadata": {},
   "outputs": [
    {
     "data": {
      "text/plain": [
       "KMeans(n_clusters=10)"
      ]
     },
     "execution_count": 3,
     "metadata": {},
     "output_type": "execute_result"
    }
   ],
   "source": [
    "# 1. Choisissons le clustering avec kmeans \n",
    "from sklearn import cluster\n",
    "myclust = cluster.KMeans(n_clusters=10)\n",
    "myclust.fit(X)"
   ]
  },
  {
   "cell_type": "code",
   "execution_count": 4,
   "id": "d4c1e7d7-65ad-4b89-95a5-b5b2d4afd63e",
   "metadata": {},
   "outputs": [],
   "source": [
    "# 2. Visualisation\n",
    "# On commence par réduire la dimension des données avec tSNE. On scale d’abord les données :\n",
    "from sklearn import preprocessing\n",
    "std_scale = preprocessing.StandardScaler().fit(X)\n",
    "X_scaled = std_scale.transform(X)"
   ]
  },
  {
   "cell_type": "code",
   "execution_count": 5,
   "id": "bd213d68-89c7-4915-b82c-20b9578f5900",
   "metadata": {},
   "outputs": [],
   "source": [
    "# Puis on applique tSNE aux données scalées :\n",
    "from sklearn import manifold\n",
    "tsne = manifold.TSNE(n_components=2, init='pca')\n",
    "X_trans = tsne.fit_transform(X_scaled)"
   ]
  },
  {
   "cell_type": "code",
   "execution_count": 6,
   "id": "e7dd8c57-eaeb-4361-b32b-0e38fe381bb1",
   "metadata": {},
   "outputs": [
    {
     "ename": "NotImplementedError",
     "evalue": "memoryview: format O not supported",
     "output_type": "error",
     "traceback": [
      "\u001b[0;31m---------------------------------------------------------------------------\u001b[0m",
      "\u001b[0;31mNotImplementedError\u001b[0m                       Traceback (most recent call last)",
      "\u001b[0;32m<ipython-input-6-622b38789b87>\u001b[0m in \u001b[0;36m<module>\u001b[0;34m\u001b[0m\n\u001b[1;32m      3\u001b[0m \u001b[0mplt\u001b[0m\u001b[0;34m.\u001b[0m\u001b[0mfigure\u001b[0m\u001b[0;34m(\u001b[0m\u001b[0;34m)\u001b[0m\u001b[0;34m\u001b[0m\u001b[0;34m\u001b[0m\u001b[0m\n\u001b[1;32m      4\u001b[0m \u001b[0;32mfor\u001b[0m \u001b[0mi\u001b[0m \u001b[0;32min\u001b[0m \u001b[0mrange\u001b[0m\u001b[0;34m(\u001b[0m\u001b[0mX\u001b[0m\u001b[0;34m.\u001b[0m\u001b[0mshape\u001b[0m\u001b[0;34m[\u001b[0m\u001b[0;36m0\u001b[0m\u001b[0;34m]\u001b[0m\u001b[0;34m)\u001b[0m\u001b[0;34m:\u001b[0m \u001b[0;31m# pour chaque point\u001b[0m\u001b[0;34m\u001b[0m\u001b[0;34m\u001b[0m\u001b[0m\n\u001b[0;32m----> 5\u001b[0;31m     plt.text(X_trans[i, 0], X_trans[i, 1], str('%d' % y[i]),\n\u001b[0m\u001b[1;32m      6\u001b[0m             color=plt.cm.Set2(myclust.labels_[i]/10.))\n\u001b[1;32m      7\u001b[0m \u001b[0;31m# On redéfinit les axes pour bien voir tous les points\u001b[0m\u001b[0;34m\u001b[0m\u001b[0;34m\u001b[0m\u001b[0;34m\u001b[0m\u001b[0m\n",
      "\u001b[0;31mNotImplementedError\u001b[0m: memoryview: format O not supported"
     ]
    },
    {
     "data": {
      "text/plain": [
       "<Figure size 432x288 with 0 Axes>"
      ]
     },
     "metadata": {},
     "output_type": "display_data"
    }
   ],
   "source": [
    "# Puis on visualise, selon la méthode donnée dans le coup de pouce :\n",
    "from matplotlib import pyplot as plt # Dans Jupyter : % pylab inline\n",
    "plt.figure()\n",
    "for i in range(X.shape[0]): # pour chaque point\n",
    "    plt.text(X_trans[i, 0], X_trans[i, 1], str('%d' % y[i]),\n",
    "            color=plt.cm.Set2(myclust.labels_[i]/10.))\n",
    "# On redéfinit les axes pour bien voir tous les points\n",
    "plt.xlim([np.min(X_trans[:, 0]), np.max(X_trans[:, 0])])\n",
    "plt.ylim([np.min(X_trans[:, 1]), np.max(X_trans[:, 1])])\n",
    "\n",
    "# On affiche l'image\n",
    "plt.show()"
   ]
  },
  {
   "cell_type": "code",
   "execution_count": 7,
   "id": "4d639211-a485-4365-a9f7-8327965e90c6",
   "metadata": {},
   "outputs": [
    {
     "ename": "NameError",
     "evalue": "name 'metrics' is not defined",
     "output_type": "error",
     "traceback": [
      "\u001b[0;31m---------------------------------------------------------------------------\u001b[0m",
      "\u001b[0;31mNameError\u001b[0m                                 Traceback (most recent call last)",
      "\u001b[0;32m<ipython-input-7-700b5df5135f>\u001b[0m in \u001b[0;36m<module>\u001b[0;34m\u001b[0m\n\u001b[1;32m      2\u001b[0m \u001b[0;31m# Pour l’évaluation intrinsèque, je choisis le coefficient de silhouette :\u001b[0m\u001b[0;34m\u001b[0m\u001b[0;34m\u001b[0m\u001b[0;34m\u001b[0m\u001b[0m\n\u001b[1;32m      3\u001b[0m print(\"Silhouette Coefficient: %0.3f\"\n\u001b[0;32m----> 4\u001b[0;31m       % metrics.silhouette_score(X, myclust.labels_))\n\u001b[0m",
      "\u001b[0;31mNameError\u001b[0m: name 'metrics' is not defined"
     ]
    }
   ],
   "source": [
    "# 3. Évaluation\n",
    "# Pour l’évaluation intrinsèque, je choisis le coefficient de silhouette :\n",
    "print(\"Silhouette Coefficient: %0.3f\"\n",
    "      % metrics.silhouette_score(X, myclust.labels_))"
   ]
  },
  {
   "cell_type": "code",
   "execution_count": 8,
   "id": "4c823074-2c4f-4eb9-8d45-04d99b1d23b9",
   "metadata": {},
   "outputs": [
    {
     "ename": "NameError",
     "evalue": "name 'metrics' is not defined",
     "output_type": "error",
     "traceback": [
      "\u001b[0;31m---------------------------------------------------------------------------\u001b[0m",
      "\u001b[0;31mNameError\u001b[0m                                 Traceback (most recent call last)",
      "\u001b[0;32m<ipython-input-8-b29a18ec72cb>\u001b[0m in \u001b[0;36m<module>\u001b[0;34m\u001b[0m\n\u001b[1;32m      1\u001b[0m \u001b[0;31m# Pour la comparaison aux étiquettes, je choisis l’indice de Rand ajusté :\u001b[0m\u001b[0;34m\u001b[0m\u001b[0;34m\u001b[0m\u001b[0;34m\u001b[0m\u001b[0m\n\u001b[1;32m      2\u001b[0m print(\"Adjusted Rand Index: %0.3f\"\n\u001b[0;32m----> 3\u001b[0;31m       % metrics.adjusted_rand_score(y, myclust.labels_))\n\u001b[0m",
      "\u001b[0;31mNameError\u001b[0m: name 'metrics' is not defined"
     ]
    }
   ],
   "source": [
    "# Pour la comparaison aux étiquettes, je choisis l’indice de Rand ajusté :\n",
    "print(\"Adjusted Rand Index: %0.3f\"\n",
    "      % metrics.adjusted_rand_score(y, myclust.labels_))"
   ]
  },
  {
   "cell_type": "code",
   "execution_count": null,
   "id": "f8d1f3e3-8b30-44b0-9b32-6abad848b041",
   "metadata": {},
   "outputs": [],
   "source": []
  }
 ],
 "metadata": {
  "kernelspec": {
   "display_name": "Python 3",
   "language": "python",
   "name": "python3"
  },
  "language_info": {
   "codemirror_mode": {
    "name": "ipython",
    "version": 3
   },
   "file_extension": ".py",
   "mimetype": "text/x-python",
   "name": "python",
   "nbconvert_exporter": "python",
   "pygments_lexer": "ipython3",
   "version": "3.8.5"
  }
 },
 "nbformat": 4,
 "nbformat_minor": 5
}
